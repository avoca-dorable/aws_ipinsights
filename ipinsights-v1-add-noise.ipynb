{
 "cells": [
  {
   "cell_type": "markdown",
   "metadata": {},
   "source": [
    "## A few notes if you are running with AWS free tier:\n",
    "    \n",
    "1. Check the doc [here](https://aws.amazon.com/free/?all-free-tier.sort-by=item.additionalFields.SortRank&all-free-tier.sort-order=asc&awsf.Free%20Tier%20Types=*all&awsf.Free%20Tier%20Categories=*all)\n",
    "to make sure you only used the services (especially instance) covered by AWS free tier\n",
    "2. Don't repeat the data generation process, as S3 charges by the number of read/write.\n",
    "3. You can start with a much smaller set of users by set NUM_USERS = 100"
   ]
  },
  {
   "cell_type": "markdown",
   "metadata": {},
   "source": [
    "# Amazon SageMaker IP Insights Algorithm - Version 2.0\n",
    "\n",
    "Here there! <br>\n",
    "Welcome to this notebook and repository. This is an code example for the [blog](https://data-centric-mind.medium.com/ip-insights-model-add-some-11d993c0d860) series. Have fun!\n",
    "\n",
    "\n",
    "## Adding more realistic data\n",
    "#### Unsupervised anomaly detection for susicipous IP addresses\n",
    "\n",
    "-------\n",
    "1. [Setup](#Setup)\n",
    "2. [Modification_of_Data](#Modification_of_Data)\n",
    "3. [Training](#Training)\n",
    " \n"
   ]
  },
  {
   "cell_type": "markdown",
   "metadata": {},
   "source": [
    "## Setup\n",
    "-------\n",
    "\n",
    "Setup AWS S3 Connections, accessing data in S3"
   ]
  },
  {
   "cell_type": "code",
   "execution_count": 23,
   "metadata": {},
   "outputs": [],
   "source": [
    "# skip later\n",
    "\n",
    "import configparser\n",
    "config = configparser.ConfigParser()\n",
    "\n",
    "\n",
    "config['ipinsights'] = {}\n",
    "config['ipinsights']['prefix'] = 'sagemaker/ipinsights-tutorial-bwx'\n",
    "with open('conf.ini', 'w') as configfile:\n",
    "    config.write(configfile)"
   ]
  },
  {
   "cell_type": "code",
   "execution_count": 26,
   "metadata": {},
   "outputs": [
    {
     "data": {
      "text/plain": [
       "['conf.ini']"
      ]
     },
     "execution_count": 26,
     "metadata": {},
     "output_type": "execute_result"
    }
   ],
   "source": [
    "## read config file\n",
    "\n",
    "import configparser\n",
    "config = configparser.ConfigParser()\n",
    "config.sections()\n",
    "\n",
    "config.read('conf.ini')"
   ]
  },
  {
   "cell_type": "code",
   "execution_count": 30,
   "metadata": {},
   "outputs": [],
   "source": [
    "# config file\n",
    "if 'prefix' in config['ipinsights']:\n",
    "    prefix = config['ipinsights']['prefix']\n",
    "else:\n",
    "    sys.exit(\"please provide prefix for you AWS S3 in the INI file\")"
   ]
  },
  {
   "cell_type": "code",
   "execution_count": 4,
   "metadata": {},
   "outputs": [],
   "source": [
    "import pandas as pd\n",
    "import boto3\n",
    "import io\n",
    "import botocore\n",
    "import os\n",
    "import sagemaker\n",
    "\n",
    "# setting for S3 connection \n",
    "\n",
    "bucket = sagemaker.Session().default_bucket()\n",
    "execution_role = sagemaker.get_execution_role()\n",
    "region = boto3.Session().region_name\n",
    "prefix = prefix\n",
    "s3_client = boto3.client('s3')"
   ]
  },
  {
   "cell_type": "code",
   "execution_count": 23,
   "metadata": {},
   "outputs": [
    {
     "data": {
      "text/html": [
       "<div>\n",
       "<style scoped>\n",
       "    .dataframe tbody tr th:only-of-type {\n",
       "        vertical-align: middle;\n",
       "    }\n",
       "\n",
       "    .dataframe tbody tr th {\n",
       "        vertical-align: top;\n",
       "    }\n",
       "\n",
       "    .dataframe thead th {\n",
       "        text-align: right;\n",
       "    }\n",
       "</style>\n",
       "<table border=\"1\" class=\"dataframe\">\n",
       "  <thead>\n",
       "    <tr style=\"text-align: right;\">\n",
       "      <th></th>\n",
       "      <th>user</th>\n",
       "      <th>ip_address</th>\n",
       "    </tr>\n",
       "  </thead>\n",
       "  <tbody>\n",
       "    <tr>\n",
       "      <th>0</th>\n",
       "      <td>user_7662</td>\n",
       "      <td>90.166.249.22</td>\n",
       "    </tr>\n",
       "    <tr>\n",
       "      <th>1</th>\n",
       "      <td>user_2745</td>\n",
       "      <td>69.67.71.195</td>\n",
       "    </tr>\n",
       "    <tr>\n",
       "      <th>2</th>\n",
       "      <td>user_1628</td>\n",
       "      <td>196.16.247.163</td>\n",
       "    </tr>\n",
       "    <tr>\n",
       "      <th>3</th>\n",
       "      <td>user_5766</td>\n",
       "      <td>193.58.243.4</td>\n",
       "    </tr>\n",
       "    <tr>\n",
       "      <th>4</th>\n",
       "      <td>user_1370</td>\n",
       "      <td>213.194.79.91</td>\n",
       "    </tr>\n",
       "  </tbody>\n",
       "</table>\n",
       "</div>"
      ],
      "text/plain": [
       "        user      ip_address\n",
       "0  user_7662   90.166.249.22\n",
       "1  user_2745    69.67.71.195\n",
       "2  user_1628  196.16.247.163\n",
       "3  user_5766    193.58.243.4\n",
       "4  user_1370   213.194.79.91"
      ]
     },
     "execution_count": 23,
     "metadata": {},
     "output_type": "execute_result"
    }
   ],
   "source": [
    "# loading training data from S3 bucket \n",
    "train_data_file = \"train.csv\"\n",
    "file_key = os.path.join(prefix, \"train\", train_data_file)\n",
    "obj = s3_client.get_object(Bucket=bucket, Key=file_key)\n",
    "\n",
    "train_df = pd.read_csv(io.BytesIO(obj['Body'].read()), names = ['user', 'ip_address'])\n",
    "train_df.head()"
   ]
  },
  {
   "cell_type": "code",
   "execution_count": 24,
   "metadata": {},
   "outputs": [
    {
     "data": {
      "text/plain": [
       "(2107898, 2)"
      ]
     },
     "execution_count": 24,
     "metadata": {},
     "output_type": "execute_result"
    }
   ],
   "source": [
    "train_df.shape"
   ]
  },
  {
   "cell_type": "markdown",
   "metadata": {},
   "source": [
    "## Modification_of_Data \n",
    "-------\n",
    "\n",
    "### Generate Noise\n",
    "\n",
    "There are 10000 users and around 2 million records in the training data we generated. Let's assume there are 0.5% users (50) has 1% anomaly events each (20 records). The anomaly events were generated by randomly sampling IP addresses to the target 0.5% users. Therefore, we added around 0.05% noisy to the training data which should be a fair estimate.\n"
   ]
  },
  {
   "cell_type": "code",
   "execution_count": 38,
   "metadata": {},
   "outputs": [],
   "source": [
    "import numpy as np\n",
    "from generate_data import draw_ip\n",
    "\n",
    "def add_noise(train_df, user_perc, noise_per_account):\n",
    "    \"\"\"\n",
    "    This is a modified function compared to the original one.\n",
    "    Creates a test case from provided train and test data frames.\n",
    "\n",
    "    This generates test case for accounts that are both in training and testing data sets.\n",
    "\n",
    "    :param train_df: (panda.DataFrame with columns ['user', 'ip_address']) training DataFrame\n",
    "    :param user_perc: (float, [0,1]) percentage of users have noisy IPs\n",
    "    :param num_samples: (int) number of test samples to use\n",
    "    :param noise_pert_account: (int) number of random logins to added to each account\n",
    "    :return: DataFrame with both good and bad traffic, with labels\n",
    "    \"\"\"\n",
    "    # Get all possible accounts. The IP Insights model can only make predictions on users it has seen in training\n",
    "    # Therefore, filter the test dataset for unseen accounts, as their results will not mean anything.\n",
    "    valid_accounts = set(train_df[\"user\"])\n",
    "\n",
    "    # Generate malicious traffic\n",
    "    num_bad_account = int(len(valid_accounts) * user_perc  )\n",
    "    bad_traffic_accounts = np.random.choice(\n",
    "        list(valid_accounts), size=num_bad_account, replace=False\n",
    "    )\n",
    "\n",
    "    bad_traffic_ips = [draw_ip() for i in range(num_bad_account * noise_per_account)]\n",
    "    bad_traffic = pd.DataFrame({\"user\": list(bad_traffic_accounts) * noise_per_account, \"ip_address\": bad_traffic_ips})\n",
    "    bad_traffic[\"label\"] = 1\n",
    "\n",
    "    # All traffic labels are: 0 for good traffic; 1 for bad traffic.\n",
    "\n",
    "    return bad_traffic"
   ]
  },
  {
   "cell_type": "code",
   "execution_count": 39,
   "metadata": {},
   "outputs": [
    {
     "data": {
      "text/html": [
       "<div>\n",
       "<style scoped>\n",
       "    .dataframe tbody tr th:only-of-type {\n",
       "        vertical-align: middle;\n",
       "    }\n",
       "\n",
       "    .dataframe tbody tr th {\n",
       "        vertical-align: top;\n",
       "    }\n",
       "\n",
       "    .dataframe thead th {\n",
       "        text-align: right;\n",
       "    }\n",
       "</style>\n",
       "<table border=\"1\" class=\"dataframe\">\n",
       "  <thead>\n",
       "    <tr style=\"text-align: right;\">\n",
       "      <th></th>\n",
       "      <th>user</th>\n",
       "      <th>ip_address</th>\n",
       "      <th>label</th>\n",
       "    </tr>\n",
       "  </thead>\n",
       "  <tbody>\n",
       "    <tr>\n",
       "      <th>0</th>\n",
       "      <td>user_5989</td>\n",
       "      <td>200.94.199.45</td>\n",
       "      <td>1</td>\n",
       "    </tr>\n",
       "    <tr>\n",
       "      <th>1</th>\n",
       "      <td>user_2332</td>\n",
       "      <td>209.26.23.115</td>\n",
       "      <td>1</td>\n",
       "    </tr>\n",
       "    <tr>\n",
       "      <th>2</th>\n",
       "      <td>user_567</td>\n",
       "      <td>126.43.99.6</td>\n",
       "      <td>1</td>\n",
       "    </tr>\n",
       "    <tr>\n",
       "      <th>3</th>\n",
       "      <td>user_8345</td>\n",
       "      <td>181.102.151.44</td>\n",
       "      <td>1</td>\n",
       "    </tr>\n",
       "    <tr>\n",
       "      <th>4</th>\n",
       "      <td>user_5560</td>\n",
       "      <td>165.98.22.188</td>\n",
       "      <td>1</td>\n",
       "    </tr>\n",
       "  </tbody>\n",
       "</table>\n",
       "</div>"
      ],
      "text/plain": [
       "        user      ip_address  label\n",
       "0  user_5989   200.94.199.45      1\n",
       "1  user_2332   209.26.23.115      1\n",
       "2   user_567     126.43.99.6      1\n",
       "3  user_8345  181.102.151.44      1\n",
       "4  user_5560   165.98.22.188      1"
      ]
     },
     "execution_count": 39,
     "metadata": {},
     "output_type": "execute_result"
    }
   ],
   "source": [
    "noise_df = add_noise(train_df, user_perc = 0.005, noise_per_account = 20)\n",
    "noise_df.head()"
   ]
  },
  {
   "cell_type": "code",
   "execution_count": 40,
   "metadata": {},
   "outputs": [
    {
     "data": {
      "text/plain": [
       "(1000, 3)"
      ]
     },
     "execution_count": 40,
     "metadata": {},
     "output_type": "execute_result"
    }
   ],
   "source": [
    "noise_df.shape"
   ]
  },
  {
   "cell_type": "markdown",
   "metadata": {},
   "source": [
    "## Merge the noise and the training data and upload to S3"
   ]
  },
  {
   "cell_type": "code",
   "execution_count": null,
   "metadata": {},
   "outputs": [],
   "source": [
    "train_new = pd.concat([noise_df[['user', 'ip_address']], train_df], ignore_index = True)"
   ]
  },
  {
   "cell_type": "code",
   "execution_count": 68,
   "metadata": {},
   "outputs": [
    {
     "data": {
      "text/plain": [
       "(2108898, 2)"
      ]
     },
     "execution_count": 68,
     "metadata": {},
     "output_type": "execute_result"
    }
   ],
   "source": [
    "train_new.shape"
   ]
  },
  {
   "cell_type": "code",
   "execution_count": 69,
   "metadata": {},
   "outputs": [],
   "source": [
    "train_new_data = train_new.to_csv(index=False, header=False, columns=[\"user\", \"ip_address\"])"
   ]
  },
  {
   "cell_type": "code",
   "execution_count": null,
   "metadata": {},
   "outputs": [],
   "source": [
    "## uploading the new data to S3\n",
    "\n",
    "new_train = \"new_train.csv\"\n",
    "key = os.path.join(prefix, \"new_train\", new_train)\n",
    "boto3.resource(\"s3\").Bucket(bucket).Object(key).put(Body=train_new_data)"
   ]
  },
  {
   "cell_type": "markdown",
   "metadata": {},
   "source": [
    "# Training\n",
    "-------\n",
    "\n",
    "The steps here are quite similar to the original model training and tuning. The only difference is instead of tuning the vector_dim, we stick with the 128 dim and tune the learning_rate and num_ip_encoder_layers instead. "
   ]
  },
  {
   "cell_type": "code",
   "execution_count": 49,
   "metadata": {
    "scrolled": true
   },
   "outputs": [
    {
     "name": "stderr",
     "output_type": "stream",
     "text": [
      "The method get_image_uri has been renamed in sagemaker>=2.\n",
      "See: https://sagemaker.readthedocs.io/en/stable/v2.html for details.\n",
      "Defaulting to the only supported framework/algorithm version: 1. Ignoring framework/algorithm version: 1.\n"
     ]
    }
   ],
   "source": [
    "from sagemaker.amazon.amazon_estimator import get_image_uri\n",
    "\n",
    "image = get_image_uri(boto3.Session().region_name, \"ipinsights\")\n",
    "# image_uri"
   ]
  },
  {
   "cell_type": "code",
   "execution_count": 50,
   "metadata": {
    "scrolled": true
   },
   "outputs": [],
   "source": [
    "# Set up the estimator with training job configuration\n",
    "ip_insights = sagemaker.estimator.Estimator(\n",
    "    image,\n",
    "    execution_role,\n",
    "    instance_count=1,\n",
    "    instance_type = 'ml.m5.xlarge',\n",
    "    output_path=f\"s3://{bucket}/{prefix}/output\",\n",
    "    sagemaker_session=sagemaker.Session(),\n",
    ")\n",
    "\n",
    "# Configure algorithm-specific hyperparameters\n",
    "ip_insights.set_hyperparameters(\n",
    "    num_entity_vectors=\"20000\",\n",
    "    random_negative_sampling_rate=\"5\",\n",
    "    vector_dim=\"128\",\n",
    "    mini_batch_size=\"1000\",\n",
    "    epochs=\"5\",\n",
    "    learning_rate=\"0.01\",\n",
    ")\n"
   ]
  },
  {
   "cell_type": "code",
   "execution_count": 62,
   "metadata": {},
   "outputs": [],
   "source": [
    "from sagemaker.tuner import HyperparameterTuner, IntegerParameter, ContinuousParameter\n",
    "\n",
    "# Configure HyperparameterTuner\n",
    "ip_insights_tuner = HyperparameterTuner(\n",
    "    estimator=ip_insights,  # previously-configured Estimator object\n",
    "    objective_metric_name=\"validation:discriminator_auc\",\n",
    "    hyperparameter_ranges={\"learning_rate\": ContinuousParameter(0.001, 0.01), 'num_ip_encoder_layers': IntegerParameter(1, 3)},\n",
    "    max_jobs=4,\n",
    "    max_parallel_jobs=2,\n",
    ")\n"
   ]
  },
  {
   "cell_type": "code",
   "execution_count": 74,
   "metadata": {},
   "outputs": [],
   "source": [
    "# config input data\n",
    "validation_data_file = \"valid.csv\"\n",
    "key = os.path.join(prefix, \"validation\", validation_data_file)\n",
    "s3_valid_data = f\"s3://{bucket}/{key}\"\n",
    "\n",
    "new_train = \"new_train.csv\"\n",
    "train_key = os.path.join(prefix, \"new_train\", new_train)\n",
    "s3_new_train_data = f\"s3://{bucket}/{train_key}\"\n",
    "\n",
    "input_data = {\"train\": s3_new_train_data, \"validation\": s3_valid_data}\n"
   ]
  },
  {
   "cell_type": "code",
   "execution_count": null,
   "metadata": {},
   "outputs": [
    {
     "name": "stdout",
     "output_type": "stream",
     "text": [
      "..............................................................................................................................................."
     ]
    }
   ],
   "source": [
    "# Start hyperparameter tuning job\n",
    "ip_insights_tuner.fit(input_data, include_cls_metadata=False)\n",
    "\n",
    "# Wait for all the jobs to finish\n",
    "ip_insights_tuner.wait()\n",
    "\n",
    "# Visualize training job results\n",
    "ip_insights_tuner.analytics().dataframe()\n"
   ]
  },
  {
   "cell_type": "markdown",
   "metadata": {},
   "source": [
    "## A quick summary of the auto-tuning models and best performance settings"
   ]
  },
  {
   "cell_type": "code",
   "execution_count": 82,
   "metadata": {},
   "outputs": [
    {
     "data": {
      "text/html": [
       "<div>\n",
       "<style scoped>\n",
       "    .dataframe tbody tr th:only-of-type {\n",
       "        vertical-align: middle;\n",
       "    }\n",
       "\n",
       "    .dataframe tbody tr th {\n",
       "        vertical-align: top;\n",
       "    }\n",
       "\n",
       "    .dataframe thead th {\n",
       "        text-align: right;\n",
       "    }\n",
       "</style>\n",
       "<table border=\"1\" class=\"dataframe\">\n",
       "  <thead>\n",
       "    <tr style=\"text-align: right;\">\n",
       "      <th></th>\n",
       "      <th>learning_rate</th>\n",
       "      <th>num_ip_encoder_layers</th>\n",
       "      <th>TrainingJobName</th>\n",
       "      <th>TrainingJobStatus</th>\n",
       "      <th>FinalObjectiveValue</th>\n",
       "      <th>TrainingStartTime</th>\n",
       "      <th>TrainingEndTime</th>\n",
       "      <th>TrainingElapsedTimeSeconds</th>\n",
       "    </tr>\n",
       "  </thead>\n",
       "  <tbody>\n",
       "    <tr>\n",
       "      <th>0</th>\n",
       "      <td>0.004267</td>\n",
       "      <td>3.0</td>\n",
       "      <td>ipinsights-220102-0319-004-1b1d3d41</td>\n",
       "      <td>Completed</td>\n",
       "      <td>0.991415</td>\n",
       "      <td>2022-01-02 03:36:22+00:00</td>\n",
       "      <td>2022-01-02 04:08:03+00:00</td>\n",
       "      <td>1901.0</td>\n",
       "    </tr>\n",
       "    <tr>\n",
       "      <th>1</th>\n",
       "      <td>0.004076</td>\n",
       "      <td>3.0</td>\n",
       "      <td>ipinsights-220102-0319-003-80770fd8</td>\n",
       "      <td>Completed</td>\n",
       "      <td>0.991488</td>\n",
       "      <td>2022-01-02 03:36:20+00:00</td>\n",
       "      <td>2022-01-02 04:05:30+00:00</td>\n",
       "      <td>1750.0</td>\n",
       "    </tr>\n",
       "    <tr>\n",
       "      <th>2</th>\n",
       "      <td>0.005583</td>\n",
       "      <td>1.0</td>\n",
       "      <td>ipinsights-220102-0319-002-948f80ac</td>\n",
       "      <td>Completed</td>\n",
       "      <td>0.990986</td>\n",
       "      <td>2022-01-02 03:21:46+00:00</td>\n",
       "      <td>2022-01-02 03:33:42+00:00</td>\n",
       "      <td>716.0</td>\n",
       "    </tr>\n",
       "    <tr>\n",
       "      <th>3</th>\n",
       "      <td>0.005834</td>\n",
       "      <td>1.0</td>\n",
       "      <td>ipinsights-220102-0319-001-96fa8b31</td>\n",
       "      <td>Completed</td>\n",
       "      <td>0.990976</td>\n",
       "      <td>2022-01-02 03:21:31+00:00</td>\n",
       "      <td>2022-01-02 03:34:02+00:00</td>\n",
       "      <td>751.0</td>\n",
       "    </tr>\n",
       "  </tbody>\n",
       "</table>\n",
       "</div>"
      ],
      "text/plain": [
       "   learning_rate  num_ip_encoder_layers                      TrainingJobName  \\\n",
       "0       0.004267                    3.0  ipinsights-220102-0319-004-1b1d3d41   \n",
       "1       0.004076                    3.0  ipinsights-220102-0319-003-80770fd8   \n",
       "2       0.005583                    1.0  ipinsights-220102-0319-002-948f80ac   \n",
       "3       0.005834                    1.0  ipinsights-220102-0319-001-96fa8b31   \n",
       "\n",
       "  TrainingJobStatus  FinalObjectiveValue         TrainingStartTime  \\\n",
       "0         Completed             0.991415 2022-01-02 03:36:22+00:00   \n",
       "1         Completed             0.991488 2022-01-02 03:36:20+00:00   \n",
       "2         Completed             0.990986 2022-01-02 03:21:46+00:00   \n",
       "3         Completed             0.990976 2022-01-02 03:21:31+00:00   \n",
       "\n",
       "            TrainingEndTime  TrainingElapsedTimeSeconds  \n",
       "0 2022-01-02 04:08:03+00:00                      1901.0  \n",
       "1 2022-01-02 04:05:30+00:00                      1750.0  \n",
       "2 2022-01-02 03:33:42+00:00                       716.0  \n",
       "3 2022-01-02 03:34:02+00:00                       751.0  "
      ]
     },
     "execution_count": 82,
     "metadata": {},
     "output_type": "execute_result"
    }
   ],
   "source": [
    "ip_insights_tuner.analytics().dataframe()"
   ]
  },
  {
   "cell_type": "markdown",
   "metadata": {},
   "source": [
    "It looks like the second model has the best performance with a learning_rate = 0.004 and a encoder_layers = 3\n",
    "<br>\n",
    "The model will be saved the to S3 and you can load and serve it anytime you want to run inference. "
   ]
  },
  {
   "cell_type": "markdown",
   "metadata": {},
   "source": [
    "### Stop and Delete the Endpoint\n",
    "If you are done with this model, then we should delete the endpoint before we close the notebook. Or else you will continue to pay for the endpoint while it is running. \n",
    "\n",
    "To do so execute the cell below. Alternately, you can navigate to the \"Endpoints\" tab in the SageMaker console, select the endpoint with the name stored in the variable endpoint_name, and select \"Delete\" from the \"Actions\" dropdown menu."
   ]
  },
  {
   "cell_type": "code",
   "execution_count": 43,
   "metadata": {},
   "outputs": [
    {
     "name": "stderr",
     "output_type": "stream",
     "text": [
      "The function delete_endpoint is a no-op in sagemaker>=2.\n",
      "See: https://sagemaker.readthedocs.io/en/stable/v2.html for details.\n",
      "The endpoint attribute has been renamed in sagemaker>=2.\n",
      "See: https://sagemaker.readthedocs.io/en/stable/v2.html for details.\n"
     ]
    }
   ],
   "source": [
    "ip_insights_tuner.delete_endpoint()\n",
    "sagemaker.Session().delete_endpoint(predictor.endpoint)"
   ]
  }
 ],
 "metadata": {
  "instance_type": "ml.t3.medium",
  "kernelspec": {
   "display_name": "Python 3 (Base Python)",
   "language": "python",
   "name": "python3__SAGEMAKER_INTERNAL__arn:aws:sagemaker:us-east-1:081325390199:image/python-3.6"
  },
  "language_info": {
   "codemirror_mode": {
    "name": "ipython",
    "version": 3
   },
   "file_extension": ".py",
   "mimetype": "text/x-python",
   "name": "python",
   "nbconvert_exporter": "python",
   "pygments_lexer": "ipython3",
   "version": "3.6.13"
  }
 },
 "nbformat": 4,
 "nbformat_minor": 4
}
