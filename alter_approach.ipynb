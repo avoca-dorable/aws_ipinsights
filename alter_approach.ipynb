{
 "cells": [
  {
   "cell_type": "markdown",
   "metadata": {},
   "source": [
    "# Amazon SageMaker IP Insights Algorithm - Alternative Approach\n",
    "\n",
    "Here there! <br>\n",
    "Welcome to this notebook and repository. This is an code example for the [blog](https://data-centric-mind.medium.com/ip-insights-model-add-some-11d993c0d860) series. Hope you enjoy this notebook with your coffee (or tea)!\n",
    "\n",
    "-------\n",
    "\n",
    "## Introduction\n",
    "\n",
    "In the previous notebooks, we explained how the IP Insights model works and how the data were simulated. However, it may also occur to you, hey, we are just trying to seperate two very different distributions. Is there another approach we can take ?\n",
    "\n",
    "In this notebook, we want to explore the possiblity of creating a simple benchmark model to detect malicious login events. \n",
    "\n",
    "\n",
    "#### Unsupervised anomaly detection for susicipous IP addresses\n",
    "\n",
    "-------\n",
    "1.[ObtainASN](#ObtainASN) \n",
    "\n",
    "2.[CreateTestingData](#CreateTestingData)\n",
    "\n",
    "3.[RandomnessTest](#RandomnessTest)\n",
    "\n",
    "4.[AddingSpice](#AddingSpice)\n",
    " \n",
    "5.[Summary](#Summary)"
   ]
  },
  {
   "cell_type": "markdown",
   "metadata": {},
   "source": [
    "# ObtainASN\n",
    "\n",
    "If you recall the data sampling approach, we first sample ASN for each user with certian patterns, and then an IP will be drawn from each ASN randomly. Therefore, the assumption here is, the ASN from normal users should follow a pattern of some kind. \n",
    "<br>\n",
    "<br>\n",
    "To obtain an accurate ASN informtion, we repeat the data simultion process and save the ASN into our logs. With real time logs and traffic, you can do a ASN lookup with this package."
   ]
  },
  {
   "cell_type": "code",
   "execution_count": 9,
   "metadata": {},
   "outputs": [],
   "source": [
    "from os import path\n",
    "import generate_data_asn\n",
    "from generate_data_asn import generate_dataset\n",
    "import importlib\n",
    "importlib.reload(generate_data_asn)"
   ]
  },
  {
   "cell_type": "code",
   "execution_count": 167,
   "metadata": {},
   "outputs": [],
   "source": [
    "import warnings\n",
    "warnings.simplefilter(action='ignore', category=FutureWarning)\n"
   ]
  },
  {
   "cell_type": "code",
   "execution_count": 11,
   "metadata": {},
   "outputs": [],
   "source": [
    "data_generation_file = \"generate_data_asn.py\"  # Synthetic data generation module\n",
    "log_file = \"ipinsights_web_traffic_asn_added.log\"\n",
    "if not path.exists(data_generation_file):\n",
    "    print(\"file couldn't find\")"
   ]
  },
  {
   "cell_type": "code",
   "execution_count": 17,
   "metadata": {},
   "outputs": [
    {
     "name": "stdout",
     "output_type": "stream",
     "text": [
      "Starting User Activity Simulation\n",
      "Loaded ASN List: 827696 ASNs.\n"
     ]
    },
    {
     "name": "stderr",
     "output_type": "stream",
     "text": [
      "100%|██████████| 10000/10000 [00:27<00:00, 367.41users/s]\n"
     ]
    },
    {
     "name": "stdout",
     "output_type": "stream",
     "text": [
      "Loaded ASN List: 827696 ASNs.\n",
      "Loaded ASN List: 827696 ASNs.\n",
      "Loaded ASN List: 827696 ASNs.\n",
      "Loaded ASN List: 827696 ASNs.\n",
      "Finished simulating web activity for 10000 users.\n"
     ]
    }
   ],
   "source": [
    "# We simulate traffic for 10,000 users. This should yield about 3 million log lines (~700 MB).\n",
    "NUM_USERS = 10000\n",
    "generate_dataset(NUM_USERS, log_file)"
   ]
  },
  {
   "cell_type": "markdown",
   "metadata": {},
   "source": [
    "I have modified the generate_data.py script to include the asn into each log as the first field. Let's take a look at the log sample we created. "
   ]
  },
  {
   "cell_type": "code",
   "execution_count": 22,
   "metadata": {},
   "outputs": [
    {
     "name": "stdout",
     "output_type": "stream",
     "text": [
      " 3004115 ipinsights_web_traffic_asn_added.log\n"
     ]
    }
   ],
   "source": [
    "!wc -l $log_file"
   ]
  },
  {
   "cell_type": "code",
   "execution_count": 19,
   "metadata": {},
   "outputs": [
    {
     "name": "stdout",
     "output_type": "stream",
     "text": [
      "752385 208.131.175.34 - user_126 [10/Nov/2018:14:38:27 +0000] \"GET /login_success HTTP/1.1\" 200 476 \"-\" \"Mozilla/5.0 (Macintosh; Intel Mac OS X 10_12_6) AppleWebKit/555.33 (KHTML, like Gecko) Chrome/1.1.1111.100 Safari/555.355\"\n",
      "752389 208.131.179.252 - user_126 [11/Nov/2018:19:21:42 +0000] \"GET /login_success HTTP/1.1\" 200 476 \"-\" \"Mozilla/5.0 (Macintosh; Intel Mac OS X 10_12_6) AppleWebKit/555.33 (KHTML, like Gecko) Chrome/1.1.1111.100 Safari/555.355\"\n",
      "737749 206.213.213.11 - user_126 [09/Nov/2018:17:48:15 +0000] \"GET /login_success HTTP/1.1\" 200 476 \"-\" \"Mozilla/5.0 (Macintosh; Intel Mac OS X 10_12_6) AppleWebKit/555.33 (KHTML, like Gecko) Chrome/1.1.1111.100 Safari/555.355\"\n"
     ]
    }
   ],
   "source": [
    "!head -3 $log_file"
   ]
  },
  {
   "cell_type": "code",
   "execution_count": 50,
   "metadata": {},
   "outputs": [
    {
     "data": {
      "text/html": [
       "<div>\n",
       "<style scoped>\n",
       "    .dataframe tbody tr th:only-of-type {\n",
       "        vertical-align: middle;\n",
       "    }\n",
       "\n",
       "    .dataframe tbody tr th {\n",
       "        vertical-align: top;\n",
       "    }\n",
       "\n",
       "    .dataframe thead th {\n",
       "        text-align: right;\n",
       "    }\n",
       "</style>\n",
       "<table border=\"1\" class=\"dataframe\">\n",
       "  <thead>\n",
       "    <tr style=\"text-align: right;\">\n",
       "      <th></th>\n",
       "      <th>asn</th>\n",
       "      <th>ip_address</th>\n",
       "      <th>rcf_id</th>\n",
       "      <th>user</th>\n",
       "      <th>timestamp</th>\n",
       "      <th>time_zone</th>\n",
       "      <th>request</th>\n",
       "      <th>status</th>\n",
       "      <th>size</th>\n",
       "      <th>referer</th>\n",
       "      <th>user_agent</th>\n",
       "    </tr>\n",
       "  </thead>\n",
       "  <tbody>\n",
       "    <tr>\n",
       "      <th>0</th>\n",
       "      <td>752385</td>\n",
       "      <td>208.131.175.34</td>\n",
       "      <td>NaN</td>\n",
       "      <td>user_126</td>\n",
       "      <td>[10/Nov/2018:14:38:27</td>\n",
       "      <td>+0000]</td>\n",
       "      <td>GET /login_success HTTP/1.1</td>\n",
       "      <td>200</td>\n",
       "      <td>476</td>\n",
       "      <td>NaN</td>\n",
       "      <td>Mozilla/5.0 (Macintosh; Intel Mac OS X 10_12_6...</td>\n",
       "    </tr>\n",
       "    <tr>\n",
       "      <th>1</th>\n",
       "      <td>752389</td>\n",
       "      <td>208.131.179.252</td>\n",
       "      <td>NaN</td>\n",
       "      <td>user_126</td>\n",
       "      <td>[11/Nov/2018:19:21:42</td>\n",
       "      <td>+0000]</td>\n",
       "      <td>GET /login_success HTTP/1.1</td>\n",
       "      <td>200</td>\n",
       "      <td>476</td>\n",
       "      <td>NaN</td>\n",
       "      <td>Mozilla/5.0 (Macintosh; Intel Mac OS X 10_12_6...</td>\n",
       "    </tr>\n",
       "    <tr>\n",
       "      <th>2</th>\n",
       "      <td>737749</td>\n",
       "      <td>206.213.213.11</td>\n",
       "      <td>NaN</td>\n",
       "      <td>user_126</td>\n",
       "      <td>[09/Nov/2018:17:48:15</td>\n",
       "      <td>+0000]</td>\n",
       "      <td>GET /login_success HTTP/1.1</td>\n",
       "      <td>200</td>\n",
       "      <td>476</td>\n",
       "      <td>NaN</td>\n",
       "      <td>Mozilla/5.0 (Macintosh; Intel Mac OS X 10_12_6...</td>\n",
       "    </tr>\n",
       "    <tr>\n",
       "      <th>3</th>\n",
       "      <td>737743</td>\n",
       "      <td>206.213.190.198</td>\n",
       "      <td>NaN</td>\n",
       "      <td>user_126</td>\n",
       "      <td>[04/Nov/2018:22:10:16</td>\n",
       "      <td>+0000]</td>\n",
       "      <td>GET /login_success HTTP/1.1</td>\n",
       "      <td>200</td>\n",
       "      <td>476</td>\n",
       "      <td>NaN</td>\n",
       "      <td>Mozilla/5.0 (Macintosh; Intel Mac OS X 10_12_6...</td>\n",
       "    </tr>\n",
       "    <tr>\n",
       "      <th>4</th>\n",
       "      <td>737768</td>\n",
       "      <td>206.213.254.157</td>\n",
       "      <td>NaN</td>\n",
       "      <td>user_126</td>\n",
       "      <td>[13/Nov/2018:20:14:58</td>\n",
       "      <td>+0000]</td>\n",
       "      <td>GET /login_success HTTP/1.1</td>\n",
       "      <td>200</td>\n",
       "      <td>476</td>\n",
       "      <td>NaN</td>\n",
       "      <td>Mozilla/5.0 (Macintosh; Intel Mac OS X 10_12_6...</td>\n",
       "    </tr>\n",
       "  </tbody>\n",
       "</table>\n",
       "</div>"
      ],
      "text/plain": [
       "      asn       ip_address  rcf_id      user              timestamp time_zone  \\\n",
       "0  752385   208.131.175.34     NaN  user_126  [10/Nov/2018:14:38:27    +0000]   \n",
       "1  752389  208.131.179.252     NaN  user_126  [11/Nov/2018:19:21:42    +0000]   \n",
       "2  737749   206.213.213.11     NaN  user_126  [09/Nov/2018:17:48:15    +0000]   \n",
       "3  737743  206.213.190.198     NaN  user_126  [04/Nov/2018:22:10:16    +0000]   \n",
       "4  737768  206.213.254.157     NaN  user_126  [13/Nov/2018:20:14:58    +0000]   \n",
       "\n",
       "                       request  status  size  referer  \\\n",
       "0  GET /login_success HTTP/1.1     200   476      NaN   \n",
       "1  GET /login_success HTTP/1.1     200   476      NaN   \n",
       "2  GET /login_success HTTP/1.1     200   476      NaN   \n",
       "3  GET /login_success HTTP/1.1     200   476      NaN   \n",
       "4  GET /login_success HTTP/1.1     200   476      NaN   \n",
       "\n",
       "                                          user_agent  \n",
       "0  Mozilla/5.0 (Macintosh; Intel Mac OS X 10_12_6...  \n",
       "1  Mozilla/5.0 (Macintosh; Intel Mac OS X 10_12_6...  \n",
       "2  Mozilla/5.0 (Macintosh; Intel Mac OS X 10_12_6...  \n",
       "3  Mozilla/5.0 (Macintosh; Intel Mac OS X 10_12_6...  \n",
       "4  Mozilla/5.0 (Macintosh; Intel Mac OS X 10_12_6...  "
      ]
     },
     "execution_count": 50,
     "metadata": {},
     "output_type": "execute_result"
    }
   ],
   "source": [
    "import pandas as pd\n",
    "df_raw = pd.read_csv(\n",
    "    log_file,\n",
    "    sep=\" \",\n",
    "    na_values=\"-\",\n",
    "    header=None,\n",
    "    names=[\n",
    "        \"asn\",\n",
    "        \"ip_address\",\n",
    "        \"rcf_id\",\n",
    "        \"user\",\n",
    "        \"timestamp\",\n",
    "        \"time_zone\",\n",
    "        \"request\",\n",
    "        \"status\",\n",
    "        \"size\",\n",
    "        \"referer\",\n",
    "        \"user_agent\",\n",
    "    ],\n",
    ")\n",
    "df_raw.head()"
   ]
  },
  {
   "cell_type": "markdown",
   "metadata": {},
   "source": [
    "Let's do a quick summary of the #ASN for each user. So as least half of the users have up to 3 asns. But there are some extreme values which are likely the travellers we have defined. "
   ]
  },
  {
   "cell_type": "code",
   "execution_count": 51,
   "metadata": {},
   "outputs": [
    {
     "data": {
      "text/plain": [
       "count    294.000000\n",
       "mean      34.013605\n",
       "std       63.813560\n",
       "min        1.000000\n",
       "25%        1.000000\n",
       "50%        3.000000\n",
       "75%       31.500000\n",
       "max      300.000000\n",
       "dtype: float64"
      ]
     },
     "execution_count": 51,
     "metadata": {},
     "output_type": "execute_result"
    }
   ],
   "source": [
    "df_raw.groupby(['user']).agg({'asn':'nunique'}).value_counts().describe()"
   ]
  },
  {
   "cell_type": "code",
   "execution_count": 135,
   "metadata": {},
   "outputs": [
    {
     "data": {
      "text/plain": [
       "count                          3004115\n",
       "mean     2018-11-09 00:03:36.151624448\n",
       "min                2018-11-04 00:00:01\n",
       "25%                2018-11-06 12:02:27\n",
       "50%                2018-11-09 00:06:42\n",
       "75%                2018-11-11 12:03:01\n",
       "max                2018-11-14 00:00:00\n",
       "Name: timestamp, dtype: object"
      ]
     },
     "execution_count": 135,
     "metadata": {},
     "output_type": "execute_result"
    }
   ],
   "source": [
    "df_raw[\"timestamp\"] = pd.to_datetime(df_raw[\"timestamp\"], format=\"[%d/%b/%Y:%H:%M:%S\")\n",
    "df_raw[\"timestamp\"].describe(datetime_is_numeric=True)"
   ]
  },
  {
   "cell_type": "code",
   "execution_count": 54,
   "metadata": {},
   "outputs": [
    {
     "data": {
      "text/plain": [
       "1"
      ]
     },
     "execution_count": 54,
     "metadata": {},
     "output_type": "execute_result"
    }
   ],
   "source": [
    "# Check if they are all in the same timezone\n",
    "num_time_zones = len(df_raw[\"time_zone\"].unique())\n",
    "num_time_zones"
   ]
  },
  {
   "cell_type": "code",
   "execution_count": 55,
   "metadata": {},
   "outputs": [],
   "source": [
    "from datetime import datetime\n",
    "time_partition = (\n",
    "    datetime(2018, 11, 11, tzinfo=pytz.FixedOffset(0))\n",
    "    if num_time_zones > 1\n",
    "    else datetime(2018, 11, 11)\n",
    ")"
   ]
  },
  {
   "cell_type": "code",
   "execution_count": 57,
   "metadata": {},
   "outputs": [],
   "source": [
    "## create model training and testing data\n",
    "\n",
    "df = df_raw[[\"user\", \"ip_address\", \"timestamp\", \"asn\"]]\n",
    "\n",
    "train_df = df[df[\"timestamp\"] <= time_partition]\n",
    "test_df = df[df[\"timestamp\"] > time_partition]\n",
    "\n",
    "# Shuffle train data\n",
    "train_df = train_df.sample(frac=1)"
   ]
  },
  {
   "cell_type": "code",
   "execution_count": 58,
   "metadata": {},
   "outputs": [
    {
     "data": {
      "text/plain": [
       "(2101805, 4)"
      ]
     },
     "execution_count": 58,
     "metadata": {},
     "output_type": "execute_result"
    }
   ],
   "source": [
    "train_df.shape"
   ]
  },
  {
   "cell_type": "code",
   "execution_count": 59,
   "metadata": {},
   "outputs": [
    {
     "data": {
      "text/plain": [
       "(902310, 4)"
      ]
     },
     "execution_count": 59,
     "metadata": {},
     "output_type": "execute_result"
    }
   ],
   "source": [
    "test_df.shape"
   ]
  },
  {
   "cell_type": "markdown",
   "metadata": {},
   "source": [
    "# CreateTestingData\n",
    "\n",
    "Next, let's create a sample with simulated bad traffic added. Therefore, we can use this data set to verify test if our approach would work. "
   ]
  },
  {
   "cell_type": "code",
   "execution_count": 63,
   "metadata": {},
   "outputs": [],
   "source": [
    "def create_test_case(train_df, test_df, num_samples, attack_freq):\n",
    "    \"\"\"Creates a test case from provided train and test data frames.\n",
    "\n",
    "    This generates test case for accounts that are both in training and testing data sets.\n",
    "\n",
    "    :param train_df: (panda.DataFrame with columns ['user', 'ip_address']) training DataFrame\n",
    "    :param test_df: (panda.DataFrame with columns ['user', 'ip_address']) testing DataFrame\n",
    "    :param num_samples: (int) number of test samples to use\n",
    "    :param attack_freq: (float) the ratio of negative_samples:positive_samples to generate for test case\n",
    "    :return: DataFrame with both good and bad traffic, with labels\n",
    "    \"\"\"\n",
    "    # Get all possible accounts. The IP Insights model can only make predictions on users it has seen in training\n",
    "    # Therefore, filter the test dataset for unseen accounts, as their results will not mean anything.\n",
    "    valid_accounts = set(train_df[\"user\"])\n",
    "    valid_test_df = test_df[test_df[\"user\"].isin(valid_accounts)]\n",
    "\n",
    "    good_traffic = valid_test_df.sample(num_samples, replace=False)\n",
    "    good_traffic = good_traffic[[\"user\", \"ip_address\", \"asn\"]]\n",
    "    good_traffic[\"label\"] = 0\n",
    "\n",
    "    # Generate malicious traffic\n",
    "    num_bad_traffic = int(num_samples * attack_freq)\n",
    "    bad_traffic_accounts = np.random.choice(\n",
    "        list(valid_accounts), size=num_bad_traffic, replace=True\n",
    "    )\n",
    "    # bad_traffic_ips = [draw_ip() for i in range(num_bad_traffic)]\n",
    "    # bad_traffic = pd.DataFrame({\"user\": bad_traffic_accounts, \"ip_address\": bad_traffic_ips})\n",
    "    # bad_traffic[\"label\"] = 1\n",
    "    bad_traffic_ips = [draw_ip() for i in range(num_bad_traffic)]\n",
    "    bad_traffic = pd.DataFrame({\"user\": bad_traffic_accounts, \"ip_address\": [t[1] for t in bad_traffic_ips], \"asn\": [t[0] for t in bad_traffic_ips]})\n",
    "    bad_traffic[\"label\"] = 1\n",
    "\n",
    "    # All traffic labels are: 0 for good traffic; 1 for bad traffic.\n",
    "    all_traffic = good_traffic.append(bad_traffic)\n",
    "\n",
    "    return all_traffic"
   ]
  },
  {
   "cell_type": "code",
   "execution_count": 66,
   "metadata": {},
   "outputs": [
    {
     "data": {
      "text/html": [
       "<div>\n",
       "<style scoped>\n",
       "    .dataframe tbody tr th:only-of-type {\n",
       "        vertical-align: middle;\n",
       "    }\n",
       "\n",
       "    .dataframe tbody tr th {\n",
       "        vertical-align: top;\n",
       "    }\n",
       "\n",
       "    .dataframe thead th {\n",
       "        text-align: right;\n",
       "    }\n",
       "</style>\n",
       "<table border=\"1\" class=\"dataframe\">\n",
       "  <thead>\n",
       "    <tr style=\"text-align: right;\">\n",
       "      <th></th>\n",
       "      <th>user</th>\n",
       "      <th>ip_address</th>\n",
       "      <th>asn</th>\n",
       "      <th>label</th>\n",
       "    </tr>\n",
       "  </thead>\n",
       "  <tbody>\n",
       "    <tr>\n",
       "      <th>992579</th>\n",
       "      <td>user_3178</td>\n",
       "      <td>213.191.223.86</td>\n",
       "      <td>788436</td>\n",
       "      <td>0</td>\n",
       "    </tr>\n",
       "    <tr>\n",
       "      <th>108392</th>\n",
       "      <td>user_391</td>\n",
       "      <td>182.55.57.155</td>\n",
       "      <td>505955</td>\n",
       "      <td>0</td>\n",
       "    </tr>\n",
       "    <tr>\n",
       "      <th>1167651</th>\n",
       "      <td>user_3670</td>\n",
       "      <td>24.54.216.171</td>\n",
       "      <td>30720</td>\n",
       "      <td>0</td>\n",
       "    </tr>\n",
       "    <tr>\n",
       "      <th>307734</th>\n",
       "      <td>user_938</td>\n",
       "      <td>92.46.20.96</td>\n",
       "      <td>233411</td>\n",
       "      <td>0</td>\n",
       "    </tr>\n",
       "    <tr>\n",
       "      <th>1869475</th>\n",
       "      <td>user_6149</td>\n",
       "      <td>196.24.69.49</td>\n",
       "      <td>631391</td>\n",
       "      <td>0</td>\n",
       "    </tr>\n",
       "  </tbody>\n",
       "</table>\n",
       "</div>"
      ],
      "text/plain": [
       "              user      ip_address     asn  label\n",
       "992579   user_3178  213.191.223.86  788436      0\n",
       "108392    user_391   182.55.57.155  505955      0\n",
       "1167651  user_3670   24.54.216.171   30720      0\n",
       "307734    user_938     92.46.20.96  233411      0\n",
       "1869475  user_6149    196.24.69.49  631391      0"
      ]
     },
     "execution_count": 66,
     "metadata": {},
     "output_type": "execute_result"
    }
   ],
   "source": [
    "NUM_SAMPLES = 100000\n",
    "test_case = create_test_case(train_df, test_df, num_samples=NUM_SAMPLES, attack_freq=1)\n",
    "test_case.head()"
   ]
  },
  {
   "cell_type": "code",
   "execution_count": 67,
   "metadata": {},
   "outputs": [
    {
     "data": {
      "text/plain": [
       "0    100000\n",
       "1    100000\n",
       "Name: label, dtype: int64"
      ]
     },
     "execution_count": 67,
     "metadata": {},
     "output_type": "execute_result"
    }
   ],
   "source": [
    "test_case['label'].value_counts()"
   ]
  },
  {
   "cell_type": "markdown",
   "metadata": {},
   "source": [
    "Tada! <br>\n",
    "We have create a balanced data set with 200, 000 login entries. Lable 0 means it's a normal login and label 1 means it's a malicious login.\n",
    "\n",
    "Next, let's take a look up how and the key feature here, how many times each user login from the same ASN, aka, count of login group by user and ASN. \n",
    "\n",
    "--------\n",
    "Quick note: I am a big fan of this book - <data storytelling>, where some principlies of how to present and visualize your data is summarized in detail. Feel free to take a look at it. In my day to day, I also follow the same princeple to tell the stories about my data. The sample code of the visualization style can be found in this repo. "
   ]
  },
  {
   "cell_type": "code",
   "execution_count": 103,
   "metadata": {},
   "outputs": [],
   "source": [
    "freq_count_good = test_case[test_case['label'] == 0].groupby('user').agg({'asn': 'count', 'label':'max'}).reset_index()\n",
    "freq_count_bad = test_case[test_case['label'] == 1].groupby('user').agg({'asn': 'count', 'label':'max'}).reset_index()"
   ]
  },
  {
   "cell_type": "code",
   "execution_count": 88,
   "metadata": {},
   "outputs": [],
   "source": [
    "good_freq = test_case[test_case['label'] == 0].groupby('user').agg({'asn': 'count'})['asn'].to_list()\n",
    "bad_freq = test_case[test_case['label'] == 1].groupby('user').agg({'asn': 'count'})['asn'].to_list()"
   ]
  },
  {
   "cell_type": "code",
   "execution_count": 82,
   "metadata": {},
   "outputs": [
    {
     "data": {
      "text/html": [
       "<div>\n",
       "<style scoped>\n",
       "    .dataframe tbody tr th:only-of-type {\n",
       "        vertical-align: middle;\n",
       "    }\n",
       "\n",
       "    .dataframe tbody tr th {\n",
       "        vertical-align: top;\n",
       "    }\n",
       "\n",
       "    .dataframe thead th {\n",
       "        text-align: right;\n",
       "    }\n",
       "</style>\n",
       "<table border=\"1\" class=\"dataframe\">\n",
       "  <thead>\n",
       "    <tr style=\"text-align: right;\">\n",
       "      <th></th>\n",
       "      <th>asn</th>\n",
       "    </tr>\n",
       "  </thead>\n",
       "  <tbody>\n",
       "    <tr>\n",
       "      <th>count</th>\n",
       "      <td>9998.000000</td>\n",
       "    </tr>\n",
       "    <tr>\n",
       "      <th>mean</th>\n",
       "      <td>10.002000</td>\n",
       "    </tr>\n",
       "    <tr>\n",
       "      <th>std</th>\n",
       "      <td>3.155564</td>\n",
       "    </tr>\n",
       "    <tr>\n",
       "      <th>min</th>\n",
       "      <td>1.000000</td>\n",
       "    </tr>\n",
       "    <tr>\n",
       "      <th>25%</th>\n",
       "      <td>8.000000</td>\n",
       "    </tr>\n",
       "    <tr>\n",
       "      <th>50%</th>\n",
       "      <td>10.000000</td>\n",
       "    </tr>\n",
       "    <tr>\n",
       "      <th>75%</th>\n",
       "      <td>12.000000</td>\n",
       "    </tr>\n",
       "    <tr>\n",
       "      <th>max</th>\n",
       "      <td>24.000000</td>\n",
       "    </tr>\n",
       "  </tbody>\n",
       "</table>\n",
       "</div>"
      ],
      "text/plain": [
       "               asn\n",
       "count  9998.000000\n",
       "mean     10.002000\n",
       "std       3.155564\n",
       "min       1.000000\n",
       "25%       8.000000\n",
       "50%      10.000000\n",
       "75%      12.000000\n",
       "max      24.000000"
      ]
     },
     "execution_count": 82,
     "metadata": {},
     "output_type": "execute_result"
    }
   ],
   "source": [
    "test_case[test_case['label'] == 1].groupby('user').agg({'asn': 'count'}).describe()"
   ]
  },
  {
   "cell_type": "code",
   "execution_count": 96,
   "metadata": {},
   "outputs": [
    {
     "data": {
      "text/html": [
       "<div>\n",
       "<style scoped>\n",
       "    .dataframe tbody tr th:only-of-type {\n",
       "        vertical-align: middle;\n",
       "    }\n",
       "\n",
       "    .dataframe tbody tr th {\n",
       "        vertical-align: top;\n",
       "    }\n",
       "\n",
       "    .dataframe thead th {\n",
       "        text-align: right;\n",
       "    }\n",
       "</style>\n",
       "<table border=\"1\" class=\"dataframe\">\n",
       "  <thead>\n",
       "    <tr style=\"text-align: right;\">\n",
       "      <th></th>\n",
       "      <th>user</th>\n",
       "      <th>asn</th>\n",
       "      <th>label</th>\n",
       "    </tr>\n",
       "  </thead>\n",
       "  <tbody>\n",
       "    <tr>\n",
       "      <th>0</th>\n",
       "      <td>user_0</td>\n",
       "      <td>11</td>\n",
       "      <td>1</td>\n",
       "    </tr>\n",
       "    <tr>\n",
       "      <th>1</th>\n",
       "      <td>user_1</td>\n",
       "      <td>4</td>\n",
       "      <td>1</td>\n",
       "    </tr>\n",
       "    <tr>\n",
       "      <th>2</th>\n",
       "      <td>user_10</td>\n",
       "      <td>10</td>\n",
       "      <td>1</td>\n",
       "    </tr>\n",
       "    <tr>\n",
       "      <th>3</th>\n",
       "      <td>user_100</td>\n",
       "      <td>11</td>\n",
       "      <td>1</td>\n",
       "    </tr>\n",
       "    <tr>\n",
       "      <th>4</th>\n",
       "      <td>user_1000</td>\n",
       "      <td>7</td>\n",
       "      <td>1</td>\n",
       "    </tr>\n",
       "  </tbody>\n",
       "</table>\n",
       "</div>"
      ],
      "text/plain": [
       "        user  asn  label\n",
       "0     user_0   11      1\n",
       "1     user_1    4      1\n",
       "2    user_10   10      1\n",
       "3   user_100   11      1\n",
       "4  user_1000    7      1"
      ]
     },
     "execution_count": 96,
     "metadata": {},
     "output_type": "execute_result"
    }
   ],
   "source": [
    "freq_count.head()"
   ]
  },
  {
   "cell_type": "code",
   "execution_count": 92,
   "metadata": {},
   "outputs": [],
   "source": [
    "import numpy as np\n",
    "import matplotlib\n",
    "from matplotlib import transforms, pyplot as plt\n",
    "import seaborn as sns\n",
    "%matplotlib inline"
   ]
  },
  {
   "cell_type": "code",
   "execution_count": 168,
   "metadata": {},
   "outputs": [
    {
     "data": {
      "image/png": "[encoded data removed]",
      "text/plain": [
       "<Figure size 1230x913.5 with 1 Axes>"
      ]
     },
     "metadata": {
      "needs_background": "light"
     },
     "output_type": "display_data"
    }
   ],
   "source": [
    "# plt.ioff()\n",
    "fig, ax1 = plt.subplots(figsize=(8.2, 6.09), dpi=150);\n",
    "_=fig.subplots_adjust(left=0.104, right=0.768, top=0.751, bottom=0.187);\n",
    "_=sns.distplot(freq_count_good['asn'], hist = False, kde = True, label = 'good', ax = ax1);\n",
    "_=sns.distplot(freq_count_bad['asn'], hist = False, kde = True,label = 'bad', ax = ax1);\n",
    "_=ax1.set_xlim([0, 80]);\n",
    "_=ax1.set_ylim([0, 0.15]);\n",
    "# _=plt.setp(ax1);\n",
    "_=plt.xticks(rotation=45);\n",
    "_=ax1.legend(loc='upper center', bbox_to_anchor=(0.5, -0.2),\n",
    "          fancybox=True, shadow=True, ncol=5);\n",
    "_=ax1.spines['top'].set_visible(False);\n",
    "_=ax1.spines['right'].set_visible(False);\n",
    "# pass"
   ]
  },
  {
   "cell_type": "markdown",
   "metadata": {},
   "source": [
    "The distribution actually met our expectations that the good one follows beta and the bad one looks quite normal with a bell shape. \n",
    "\n",
    "# RandomnessTest\n",
    "\n",
    "\n",
    "First, let's try to run a rundomness test on the two groups before we further test on each user's events. Here we use the popular run test approach. To learn about it, please check out this blog(https://data-centric-mind.medium.com/randomness-test-run-test-8333a8b956a1). "
   ]
  },
  {
   "cell_type": "code",
   "execution_count": 170,
   "metadata": {},
   "outputs": [],
   "source": [
    "from statsmodels.sandbox.stats.runs import runstest_1samp "
   ]
  },
  {
   "cell_type": "code",
   "execution_count": 178,
   "metadata": {},
   "outputs": [
    {
     "data": {
      "text/plain": [
       "(-1.6235589045240673, 0.10446998217497946)"
      ]
     },
     "execution_count": 178,
     "metadata": {},
     "output_type": "execute_result"
    }
   ],
   "source": [
    "runstest_1samp(freq_count_good['asn'], cutoff = 'median')"
   ]
  },
  {
   "cell_type": "code",
   "execution_count": 177,
   "metadata": {},
   "outputs": [
    {
     "data": {
      "text/plain": [
       "(-0.6116928502987828, 0.5407409931585855)"
      ]
     },
     "execution_count": 177,
     "metadata": {},
     "output_type": "execute_result"
    }
   ],
   "source": [
    "runstest_1samp(freq_count_bad['asn'], cutoff = 'median')"
   ]
  },
  {
   "cell_type": "markdown",
   "metadata": {},
   "source": [
    "The first returned value from is the z-stats and the second value in the tuple is the p-value. We can determinte if the data is randomly distributed based on the p-value and an ideal siginificance level. The null hypothesis is that the data is randomly distributed. If the p-value is less than the selected power, we can reject the null and we have reason to believe the data is not randomly genereated. \n",
    "\n",
    "Well, it looks like the first good count can be considered as rejection to null hypothesis (random distribution) at a siginificance level of 0.105. While for second test on the bad samples, we do not have enough evidence to reject it as a random distribution. \n",
    "\n",
    "Alright, it seems we can seperate the good and bad traffic based on the number of logins each user has on each ASN.\n",
    "\n",
    "________"
   ]
  },
  {
   "cell_type": "markdown",
   "metadata": {},
   "source": [
    "## AddingSpice\n",
    "\n",
    "Making sense so far? OK, now let's think about how to make this more practical. I will skip most of the detailed demo for this session, as otherwise the notebook will go endless long. However, I will provide the key thoughts and functions, you are highly encouraged to try it out yourself.\n",
    "\n",
    "1. data streams\n",
    "In reality, you recieve one login & IP instead of a sequence of logins. How can you test the randonmess in this case? Maybe combining with the historical N login events and run the randomness test ? \n",
    "\n",
    "   You can use the two functions provided below to complete the test. \n"
   ]
  },
  {
   "cell_type": "code",
   "execution_count": 72,
   "metadata": {},
   "outputs": [],
   "source": [
    "def check_random(df, asn_col = 'asn'):\n",
    "    \"\"\" Run randomness test on asn_col of the provided dataframe df.\n",
    "    \"\"\"\n",
    "    # when sample size is small, remember to use correction on the data.\n",
    "    s = [x for x in df[asn_col].tolist() if x is not None]\n",
    "    v = runstest_1samp(s, cutoff = 'median' ,correction=True)\n",
    "    return (v)"
   ]
  },
  {
   "cell_type": "code",
   "execution_count": 73,
   "metadata": {},
   "outputs": [],
   "source": [
    "def get_user_p(df, label, group_col = 'user'):\n",
    "    \"\"\" Function return the z and p value for randomness test for each group of observations in the df\n",
    "    :para df: dataframe that contains all the observations\n",
    "    :para label: str, the column which used as labels we want to seperate\n",
    "    :return dataframe \n",
    "    \"\"\"\n",
    "    dfg = df[df['label'] == label].groupby(group_col).apply(lambda x : check_random(x))\n",
    "    df_random0 = pd.DataFrame(dfg)\n",
    "    df_random0.columns = ['run_test']\n",
    "    df_random0['zscore'] = df_random0['run_test'].apply(lambda x: round(x[0], 3))\n",
    "    df_random0['pvalue'] = df_random0['run_test'].apply(lambda x: round(x[1],3))\n",
    "    return df_random0"
   ]
  },
  {
   "cell_type": "markdown",
   "metadata": {},
   "source": [
    "2. ASNlookup\n",
    "\n",
    "   When your data and IP are not sampled from a simulation, you need to a different approach to obtain the ASN info. You can use the code provided below to do a ASN lookup. "
   ]
  },
  {
   "cell_type": "code",
   "execution_count": 36,
   "metadata": {},
   "outputs": [],
   "source": [
    "# install the package and needed data \n",
    "!apt-get install python-pip python-dev -y build-essential\n",
    "!apt-get update && apt-get install -y build-essential\n",
    "!python -m pip install pyasn"
   ]
  },
  {
   "cell_type": "code",
   "execution_count": 23,
   "metadata": {},
   "outputs": [
    {
     "name": "stdout",
     "output_type": "stream",
     "text": [
      "Connecting to ftp://archive.routeviews.org\n",
      "Finding most recent archive in /bgpdata/2022.01/RIBS ...\n",
      "Downloading ftp://archive.routeviews.org//bgpdata/2022.01/RIBS/rib.20220123.1200.bz2\n",
      " 99%, 19404KB/s\n",
      "Download complete.\n"
     ]
    }
   ],
   "source": [
    "!pyasn_util_download.py --latest\n",
    "!pyasn_util_convert.py --single rib.20220123.1200.bz2 20220123.dat"
   ]
  },
  {
   "cell_type": "code",
   "execution_count": 215,
   "metadata": {},
   "outputs": [],
   "source": [
    "import pyasn\n",
    "asndb = pyasn.pyasn('20220123.dat')"
   ]
  },
  {
   "cell_type": "code",
   "execution_count": 217,
   "metadata": {},
   "outputs": [],
   "source": [
    "df['asn'] = ''\n",
    "for idx, row in df.iterrows():\n",
    "    df.at[idx, 'asn'] = asndb.lookup(row['ip_address'])[0]"
   ]
  },
  {
   "cell_type": "markdown",
   "metadata": {},
   "source": [
    "3. Add noise\n",
    "\n",
    "   Remember what we did in the very first notebook? We added noise into our data because you are not likely having a perfect dataset in reality. Therefore, we can use the similar approach adding some noisy logins into our good sample and see it our approach still work. The modified function can be used were provided below. "
   ]
  },
  {
   "cell_type": "code",
   "execution_count": 60,
   "metadata": {},
   "outputs": [],
   "source": [
    "import numpy as np\n",
    "from generate_data_asn import draw_ip\n",
    "\n",
    "def add_noise(train_df, user_perc, noise_per_account):\n",
    "    \"\"\"\n",
    "    This is a modified function compared to the original one.\n",
    "    Creates a test case from provided train and test data frames.\n",
    "\n",
    "    This generates test case for accounts that are both in training and testing data sets.\n",
    "\n",
    "    :param train_df: (panda.DataFrame with columns ['user', 'ip_address']) training DataFrame\n",
    "    :param user_perc: (float, [0,1]) percentage of users have noisy IPs\n",
    "    :param num_samples: (int) number of test samples to use\n",
    "    :param noise_pert_account: (int) number of random logins to added to each account\n",
    "    :return: DataFrame with both good and bad traffic, with labels\n",
    "    \"\"\"\n",
    "    # Get all possible accounts. The IP Insights model can only make predictions on users it has seen in training\n",
    "    # Therefore, filter the test dataset for unseen accounts, as their results will not mean anything.\n",
    "    valid_accounts = set(train_df[\"user\"])\n",
    "\n",
    "    # Generate malicious traffic\n",
    "    num_bad_account = int(len(valid_accounts) * user_perc  )\n",
    "    bad_traffic_accounts = np.random.choice(\n",
    "        list(valid_accounts), size=num_bad_account, replace=False\n",
    "    )\n",
    "\n",
    "    bad_traffic_ips = [draw_ip() for i in range(num_bad_account * noise_per_account)]\n",
    "    bad_traffic = pd.DataFrame({\"user\": list(bad_traffic_accounts) * noise_per_account, \"ip_address\": [t[1] for t in bad_traffic_ips], \"asn\": [t[0] for t in bad_traffic_ips]})\n",
    "    bad_traffic[\"label\"] = 1\n",
    "\n",
    "    # All traffic labels are: 0 for good traffic; 1 for bad traffic.\n",
    "\n",
    "    return bad_traffic"
   ]
  },
  {
   "cell_type": "code",
   "execution_count": 45,
   "metadata": {},
   "outputs": [
    {
     "data": {
      "text/html": [
       "<div>\n",
       "<style scoped>\n",
       "    .dataframe tbody tr th:only-of-type {\n",
       "        vertical-align: middle;\n",
       "    }\n",
       "\n",
       "    .dataframe tbody tr th {\n",
       "        vertical-align: top;\n",
       "    }\n",
       "\n",
       "    .dataframe thead th {\n",
       "        text-align: right;\n",
       "    }\n",
       "</style>\n",
       "<table border=\"1\" class=\"dataframe\">\n",
       "  <thead>\n",
       "    <tr style=\"text-align: right;\">\n",
       "      <th></th>\n",
       "      <th>user</th>\n",
       "      <th>ip_address</th>\n",
       "      <th>asn</th>\n",
       "      <th>label</th>\n",
       "    </tr>\n",
       "  </thead>\n",
       "  <tbody>\n",
       "    <tr>\n",
       "      <th>0</th>\n",
       "      <td>user_803</td>\n",
       "      <td>81.31.47.98</td>\n",
       "      <td>194143</td>\n",
       "      <td>1</td>\n",
       "    </tr>\n",
       "    <tr>\n",
       "      <th>1</th>\n",
       "      <td>user_3028</td>\n",
       "      <td>27.247.47.138</td>\n",
       "      <td>39790</td>\n",
       "      <td>1</td>\n",
       "    </tr>\n",
       "    <tr>\n",
       "      <th>2</th>\n",
       "      <td>user_3489</td>\n",
       "      <td>148.246.100.34</td>\n",
       "      <td>406324</td>\n",
       "      <td>1</td>\n",
       "    </tr>\n",
       "    <tr>\n",
       "      <th>3</th>\n",
       "      <td>user_8068</td>\n",
       "      <td>64.28.43.186</td>\n",
       "      <td>119232</td>\n",
       "      <td>1</td>\n",
       "    </tr>\n",
       "    <tr>\n",
       "      <th>4</th>\n",
       "      <td>user_4528</td>\n",
       "      <td>139.139.95.111</td>\n",
       "      <td>388937</td>\n",
       "      <td>1</td>\n",
       "    </tr>\n",
       "  </tbody>\n",
       "</table>\n",
       "</div>"
      ],
      "text/plain": [
       "        user      ip_address     asn  label\n",
       "0   user_803     81.31.47.98  194143      1\n",
       "1  user_3028   27.247.47.138   39790      1\n",
       "2  user_3489  148.246.100.34  406324      1\n",
       "3  user_8068    64.28.43.186  119232      1\n",
       "4  user_4528  139.139.95.111  388937      1"
      ]
     },
     "execution_count": 45,
     "metadata": {},
     "output_type": "execute_result"
    }
   ],
   "source": [
    "noise_df = add_noise(train_df, user_perc = 0.005, noise_per_account = 20)\n",
    "noise_df.head()"
   ]
  },
  {
   "cell_type": "code",
   "execution_count": null,
   "metadata": {},
   "outputs": [],
   "source": [
    "noise_train = pd.concat([noise_df[['user', 'ip_address']], train_df], ignore_index = True)"
   ]
  },
  {
   "cell_type": "markdown",
   "metadata": {},
   "source": [
    "# Summary"
   ]
  },
  {
   "cell_type": "markdown",
   "metadata": {},
   "source": [
    "In this post, we covered an alternative approach of identifying abnormal login with unsupervised learning approach. There are some ideas that I brought up but not fully tested because I don't think the test results on the simulated data will make sense; 2. I donnot want the notebook to be too long.. I may come back and break this notebook into a couple ones and adding more tests and content. \n",
    "\n",
    "Anyways, thank you for watching to the end and hope some of the contents are beneficial to you. \n",
    "\n",
    "See you in the next post!"
   ]
  }
 ],
 "metadata": {
  "instance_type": "ml.t3.medium",
  "kernelspec": {
   "display_name": "Python 3 (ipykernel)",
   "language": "python",
   "name": "python3"
  },
  "language_info": {
   "codemirror_mode": {
    "name": "ipython",
    "version": 3
   },
   "file_extension": ".py",
   "mimetype": "text/x-python",
   "name": "python",
   "nbconvert_exporter": "python",
   "pygments_lexer": "ipython3",
   "version": "3.9.7"
  }
 },
 "nbformat": 4,
 "nbformat_minor": 4
}
